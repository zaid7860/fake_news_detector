{
 "cells": [
  {
   "cell_type": "markdown",
   "metadata": {},
   "source": [
    "# Describtion\n",
    " Do you trust all the news you hear from social media? All news are not real, right? So how will you detect the fake news? The answer is ML. By practicing this advanced ML project of detecting fake news, you will easily make a difference between real and fake news. Before moving ahead in this advanced ML project, get aware of the terms related to it like fake news, tfidfvectorizer, PassiveAggressive Classifier, Naive Bayes, Logistic Regrssion and SVC."
   ]
  },
  {
   "cell_type": "markdown",
   "metadata": {},
   "source": [
    "# Columns :\n",
    "Title: The title of the article\n",
    "Text: The text of the article\n",
    "Subject: The subject of the article\n",
    "Date: The date at which the article was posted"
   ]
  },
  {
   "cell_type": "markdown",
   "metadata": {},
   "source": [
    "# Problem Statemtent\n",
    "We will use these news record to detect if news is fake or real."
   ]
  },
  {
   "cell_type": "markdown",
   "metadata": {},
   "source": [
    "# Constraints:\n",
    "The cost of a mis-classification can be high, it can cause chaos.\n",
    "No Latency Requirement\n",
    "\n",
    "# Benefits:\n",
    "Can bring net neutrality.\n",
    "\n",
    "\n",
    "Can stop potential fraud news.\n"
   ]
  },
  {
   "cell_type": "markdown",
   "metadata": {},
   "source": [
    "## Importing Liabraries"
   ]
  },
  {
   "cell_type": "code",
   "execution_count": 2,
   "metadata": {},
   "outputs": [],
   "source": [
    "import numpy as np\n",
    "import pandas as pd\n",
    "from sklearn.model_selection import train_test_split, GridSearchCV\n",
    "from sklearn.feature_extraction.text import TfidfVectorizer\n",
    "from sklearn.linear_model import PassiveAggressiveClassifier\n",
    "from sklearn.metrics import accuracy_score, confusion_matrix\n",
    "from sklearn.naive_bayes import GaussianNB\n",
    "from sklearn.linear_model import LogisticRegression\n",
    "from sklearn.neighbors import KNeighborsClassifier\n",
    "from sklearn.svm import SVC\n",
    "from prettytable import PrettyTable\n"
   ]
  },
  {
   "cell_type": "markdown",
   "metadata": {},
   "source": [
    "## Loading dataset"
   ]
  },
  {
   "cell_type": "code",
   "execution_count": 3,
   "metadata": {},
   "outputs": [],
   "source": [
    "fake_test = pd.read_csv('Fake.csv')    #reading fake csv\n",
    "fake_test['label'] = 0 #Adding label: 0  to fake news\n",
    "fake_test = fake_test[['text', 'label']]"
   ]
  },
  {
   "cell_type": "code",
   "execution_count": 4,
   "metadata": {},
   "outputs": [],
   "source": [
    "true_test = pd.read_csv('True.csv')     #reading True.csv\n",
    "true_test['label'] = 1 #Adding label: 1  to real news\n",
    "true_test = true_test[['text', 'label']]"
   ]
  },
  {
   "cell_type": "code",
   "execution_count": 5,
   "metadata": {},
   "outputs": [],
   "source": [
    "data = pd.concat([true_test, fake_test])       \n",
    "data = data.sample(frac = 1)              # combining Fake and True in data"
   ]
  },
  {
   "cell_type": "code",
   "execution_count": 6,
   "metadata": {},
   "outputs": [
    {
     "data": {
      "text/html": [
       "<div>\n",
       "<style scoped>\n",
       "    .dataframe tbody tr th:only-of-type {\n",
       "        vertical-align: middle;\n",
       "    }\n",
       "\n",
       "    .dataframe tbody tr th {\n",
       "        vertical-align: top;\n",
       "    }\n",
       "\n",
       "    .dataframe thead th {\n",
       "        text-align: right;\n",
       "    }\n",
       "</style>\n",
       "<table border=\"1\" class=\"dataframe\">\n",
       "  <thead>\n",
       "    <tr style=\"text-align: right;\">\n",
       "      <th></th>\n",
       "      <th>text</th>\n",
       "      <th>label</th>\n",
       "    </tr>\n",
       "  </thead>\n",
       "  <tbody>\n",
       "    <tr>\n",
       "      <th>2306</th>\n",
       "      <td>WASHINGTON (Reuters) - When President Donald T...</td>\n",
       "      <td>1</td>\n",
       "    </tr>\n",
       "    <tr>\n",
       "      <th>2105</th>\n",
       "      <td>(Reuters) - Billionaire investor Carl Icahn en...</td>\n",
       "      <td>1</td>\n",
       "    </tr>\n",
       "    <tr>\n",
       "      <th>3712</th>\n",
       "      <td>Trump s threatening of the press seems to be p...</td>\n",
       "      <td>0</td>\n",
       "    </tr>\n",
       "    <tr>\n",
       "      <th>6015</th>\n",
       "      <td>Black and brown people accounted for 86.5 perc...</td>\n",
       "      <td>0</td>\n",
       "    </tr>\n",
       "    <tr>\n",
       "      <th>10323</th>\n",
       "      <td>WASHINGTON (Reuters) - U.S. Democratic preside...</td>\n",
       "      <td>1</td>\n",
       "    </tr>\n",
       "    <tr>\n",
       "      <th>10576</th>\n",
       "      <td>Last week, Alex Jones scooped NBC and Megyn Ke...</td>\n",
       "      <td>0</td>\n",
       "    </tr>\n",
       "    <tr>\n",
       "      <th>4606</th>\n",
       "      <td>Donald Trump gets a lot of attention for his o...</td>\n",
       "      <td>0</td>\n",
       "    </tr>\n",
       "    <tr>\n",
       "      <th>13318</th>\n",
       "      <td>POTSDAM, Germany (Reuters) - German police on ...</td>\n",
       "      <td>1</td>\n",
       "    </tr>\n",
       "    <tr>\n",
       "      <th>12421</th>\n",
       "      <td>This isn t the first time outspoken conservati...</td>\n",
       "      <td>0</td>\n",
       "    </tr>\n",
       "    <tr>\n",
       "      <th>2156</th>\n",
       "      <td>It s time for the IRS to end non-profit status...</td>\n",
       "      <td>0</td>\n",
       "    </tr>\n",
       "    <tr>\n",
       "      <th>21472</th>\n",
       "      <td>When Other People s Money Runs Out An NGO oper...</td>\n",
       "      <td>0</td>\n",
       "    </tr>\n",
       "    <tr>\n",
       "      <th>17662</th>\n",
       "      <td>AL-BAB, Syria/BEIRUT/ANKARA (Reuters) - Childr...</td>\n",
       "      <td>1</td>\n",
       "    </tr>\n",
       "    <tr>\n",
       "      <th>13204</th>\n",
       "      <td>DUBAI (Reuters) - Officials in Ali Abdullah Sa...</td>\n",
       "      <td>1</td>\n",
       "    </tr>\n",
       "    <tr>\n",
       "      <th>10548</th>\n",
       "      <td>A top Republican took to the Senate floor Thur...</td>\n",
       "      <td>0</td>\n",
       "    </tr>\n",
       "    <tr>\n",
       "      <th>9409</th>\n",
       "      <td>WASHINGTON (Reuters) - Democrat Hillary Clinto...</td>\n",
       "      <td>1</td>\n",
       "    </tr>\n",
       "    <tr>\n",
       "      <th>18445</th>\n",
       "      <td>Americans are sick and tired of being lied to ...</td>\n",
       "      <td>0</td>\n",
       "    </tr>\n",
       "    <tr>\n",
       "      <th>294</th>\n",
       "      <td>BIRMINGHAM, Ala. (Reuters) - Name-calling is n...</td>\n",
       "      <td>1</td>\n",
       "    </tr>\n",
       "    <tr>\n",
       "      <th>14807</th>\n",
       "      <td>Yet another reason NOT to vote for this disast...</td>\n",
       "      <td>0</td>\n",
       "    </tr>\n",
       "    <tr>\n",
       "      <th>9656</th>\n",
       "      <td>Thanks to one very brave journalist and filmma...</td>\n",
       "      <td>0</td>\n",
       "    </tr>\n",
       "    <tr>\n",
       "      <th>12680</th>\n",
       "      <td>Hillary s such a champion of gay rights that h...</td>\n",
       "      <td>0</td>\n",
       "    </tr>\n",
       "    <tr>\n",
       "      <th>14334</th>\n",
       "      <td>How many? I think we ve lost count!</td>\n",
       "      <td>0</td>\n",
       "    </tr>\n",
       "    <tr>\n",
       "      <th>22637</th>\n",
       "      <td>21st Century Wire says Those who pull the stri...</td>\n",
       "      <td>0</td>\n",
       "    </tr>\n",
       "    <tr>\n",
       "      <th>14311</th>\n",
       "      <td>MAR DEL PLATA, Argentina/BUENOS AIRES (Reuters...</td>\n",
       "      <td>1</td>\n",
       "    </tr>\n",
       "    <tr>\n",
       "      <th>21968</th>\n",
       "      <td>Antifa (Photo: Twitter)Diana Johnstone 21st C...</td>\n",
       "      <td>0</td>\n",
       "    </tr>\n",
       "    <tr>\n",
       "      <th>9410</th>\n",
       "      <td>Here s more proof that liberals don t like fre...</td>\n",
       "      <td>0</td>\n",
       "    </tr>\n",
       "    <tr>\n",
       "      <th>7825</th>\n",
       "      <td>WASHINGTON (Reuters) - The death of Thailand’s...</td>\n",
       "      <td>1</td>\n",
       "    </tr>\n",
       "    <tr>\n",
       "      <th>828</th>\n",
       "      <td>Donald Trump s presidency is spiraling out of ...</td>\n",
       "      <td>0</td>\n",
       "    </tr>\n",
       "    <tr>\n",
       "      <th>4966</th>\n",
       "      <td>WASHINGTON (Reuters) - President Donald Trump’...</td>\n",
       "      <td>1</td>\n",
       "    </tr>\n",
       "    <tr>\n",
       "      <th>7331</th>\n",
       "      <td>The studio of superheroes will leave Georgia r...</td>\n",
       "      <td>0</td>\n",
       "    </tr>\n",
       "    <tr>\n",
       "      <th>12674</th>\n",
       "      <td>Google trends can be very telling. These Googl...</td>\n",
       "      <td>0</td>\n",
       "    </tr>\n",
       "    <tr>\n",
       "      <th>...</th>\n",
       "      <td>...</td>\n",
       "      <td>...</td>\n",
       "    </tr>\n",
       "    <tr>\n",
       "      <th>5415</th>\n",
       "      <td>WASHINGTON (Reuters) - President Donald Trump ...</td>\n",
       "      <td>1</td>\n",
       "    </tr>\n",
       "    <tr>\n",
       "      <th>17328</th>\n",
       "      <td>LONDON (Reuters) - British Prime Minister Ther...</td>\n",
       "      <td>1</td>\n",
       "    </tr>\n",
       "    <tr>\n",
       "      <th>16190</th>\n",
       "      <td>ZURICH (Reuters) - Austrian police are searchi...</td>\n",
       "      <td>1</td>\n",
       "    </tr>\n",
       "    <tr>\n",
       "      <th>12913</th>\n",
       "      <td>Wow! Moonbeam Johnson addresses three issues h...</td>\n",
       "      <td>0</td>\n",
       "    </tr>\n",
       "    <tr>\n",
       "      <th>3910</th>\n",
       "      <td>In a sorry attempt to smear the protester who ...</td>\n",
       "      <td>0</td>\n",
       "    </tr>\n",
       "    <tr>\n",
       "      <th>8721</th>\n",
       "      <td>CLEVELAND (Reuters) - The Republican National ...</td>\n",
       "      <td>1</td>\n",
       "    </tr>\n",
       "    <tr>\n",
       "      <th>14000</th>\n",
       "      <td>DHAKA (Reuters) - Several small opposition par...</td>\n",
       "      <td>1</td>\n",
       "    </tr>\n",
       "    <tr>\n",
       "      <th>21285</th>\n",
       "      <td>BOGOTA (Reuters) - Colombia has sent a letter ...</td>\n",
       "      <td>1</td>\n",
       "    </tr>\n",
       "    <tr>\n",
       "      <th>12947</th>\n",
       "      <td>DUBAI (Reuters) - Saudi Arabia s King Salman d...</td>\n",
       "      <td>1</td>\n",
       "    </tr>\n",
       "    <tr>\n",
       "      <th>11877</th>\n",
       "      <td>I could go on an on about Susan Rice Does she ...</td>\n",
       "      <td>0</td>\n",
       "    </tr>\n",
       "    <tr>\n",
       "      <th>16978</th>\n",
       "      <td>So who does Canada believe is the actual victi...</td>\n",
       "      <td>0</td>\n",
       "    </tr>\n",
       "    <tr>\n",
       "      <th>1628</th>\n",
       "      <td>Donald Trump treated Americans who oppose him ...</td>\n",
       "      <td>0</td>\n",
       "    </tr>\n",
       "    <tr>\n",
       "      <th>12767</th>\n",
       "      <td>Another stunning, arrogant slam against Hillar...</td>\n",
       "      <td>0</td>\n",
       "    </tr>\n",
       "    <tr>\n",
       "      <th>11273</th>\n",
       "      <td>DUBAI (Reuters) - Kuwait s deputy foreign mini...</td>\n",
       "      <td>1</td>\n",
       "    </tr>\n",
       "    <tr>\n",
       "      <th>7722</th>\n",
       "      <td>LAS VEGAS (Reuters) - President Barack Obama o...</td>\n",
       "      <td>1</td>\n",
       "    </tr>\n",
       "    <tr>\n",
       "      <th>19302</th>\n",
       "      <td>As the Pussyhat Project s flier helpfully poin...</td>\n",
       "      <td>0</td>\n",
       "    </tr>\n",
       "    <tr>\n",
       "      <th>4602</th>\n",
       "      <td>Donald Trump wanted the press to tour his bran...</td>\n",
       "      <td>0</td>\n",
       "    </tr>\n",
       "    <tr>\n",
       "      <th>12162</th>\n",
       "      <td>After the Reid event, Hillary Clinton greeted ...</td>\n",
       "      <td>0</td>\n",
       "    </tr>\n",
       "    <tr>\n",
       "      <th>6670</th>\n",
       "      <td>WASHINGTON (Reuters) - A sweeping tax reform p...</td>\n",
       "      <td>1</td>\n",
       "    </tr>\n",
       "    <tr>\n",
       "      <th>10197</th>\n",
       "      <td>WASHINGTON (Reuters) - A Democratic and a Repu...</td>\n",
       "      <td>1</td>\n",
       "    </tr>\n",
       "    <tr>\n",
       "      <th>15175</th>\n",
       "      <td>BEIRUT (Reuters) - Lebanese President Michel A...</td>\n",
       "      <td>1</td>\n",
       "    </tr>\n",
       "    <tr>\n",
       "      <th>1506</th>\n",
       "      <td>Prior to the Nov. 8 election, the FBI was, mor...</td>\n",
       "      <td>0</td>\n",
       "    </tr>\n",
       "    <tr>\n",
       "      <th>21154</th>\n",
       "      <td>SAO PAULO (Reuters) - Former Brazilian Preside...</td>\n",
       "      <td>1</td>\n",
       "    </tr>\n",
       "    <tr>\n",
       "      <th>3564</th>\n",
       "      <td>BRUSSELS (Reuters) - NATO Secretary-General Je...</td>\n",
       "      <td>1</td>\n",
       "    </tr>\n",
       "    <tr>\n",
       "      <th>18489</th>\n",
       "      <td>(Reuters) - North Korea has opened a second in...</td>\n",
       "      <td>1</td>\n",
       "    </tr>\n",
       "    <tr>\n",
       "      <th>16908</th>\n",
       "      <td>WASHINGTON (Reuters) - The United States does ...</td>\n",
       "      <td>1</td>\n",
       "    </tr>\n",
       "    <tr>\n",
       "      <th>21167</th>\n",
       "      <td>HARARE (Reuters) - Zimbabwe s first lady Grace...</td>\n",
       "      <td>1</td>\n",
       "    </tr>\n",
       "    <tr>\n",
       "      <th>11049</th>\n",
       "      <td>Lou Dobbs rips on Speaker Paul Ryan because he...</td>\n",
       "      <td>0</td>\n",
       "    </tr>\n",
       "    <tr>\n",
       "      <th>12715</th>\n",
       "      <td></td>\n",
       "      <td>0</td>\n",
       "    </tr>\n",
       "    <tr>\n",
       "      <th>9149</th>\n",
       "      <td>WASHINGTON (Reuters) - President Barack Obama ...</td>\n",
       "      <td>1</td>\n",
       "    </tr>\n",
       "  </tbody>\n",
       "</table>\n",
       "<p>44898 rows × 2 columns</p>\n",
       "</div>"
      ],
      "text/plain": [
       "                                                    text  label\n",
       "2306   WASHINGTON (Reuters) - When President Donald T...      1\n",
       "2105   (Reuters) - Billionaire investor Carl Icahn en...      1\n",
       "3712   Trump s threatening of the press seems to be p...      0\n",
       "6015   Black and brown people accounted for 86.5 perc...      0\n",
       "10323  WASHINGTON (Reuters) - U.S. Democratic preside...      1\n",
       "10576  Last week, Alex Jones scooped NBC and Megyn Ke...      0\n",
       "4606   Donald Trump gets a lot of attention for his o...      0\n",
       "13318  POTSDAM, Germany (Reuters) - German police on ...      1\n",
       "12421  This isn t the first time outspoken conservati...      0\n",
       "2156   It s time for the IRS to end non-profit status...      0\n",
       "21472  When Other People s Money Runs Out An NGO oper...      0\n",
       "17662  AL-BAB, Syria/BEIRUT/ANKARA (Reuters) - Childr...      1\n",
       "13204  DUBAI (Reuters) - Officials in Ali Abdullah Sa...      1\n",
       "10548  A top Republican took to the Senate floor Thur...      0\n",
       "9409   WASHINGTON (Reuters) - Democrat Hillary Clinto...      1\n",
       "18445  Americans are sick and tired of being lied to ...      0\n",
       "294    BIRMINGHAM, Ala. (Reuters) - Name-calling is n...      1\n",
       "14807  Yet another reason NOT to vote for this disast...      0\n",
       "9656   Thanks to one very brave journalist and filmma...      0\n",
       "12680  Hillary s such a champion of gay rights that h...      0\n",
       "14334               How many? I think we ve lost count!       0\n",
       "22637  21st Century Wire says Those who pull the stri...      0\n",
       "14311  MAR DEL PLATA, Argentina/BUENOS AIRES (Reuters...      1\n",
       "21968   Antifa (Photo: Twitter)Diana Johnstone 21st C...      0\n",
       "9410   Here s more proof that liberals don t like fre...      0\n",
       "7825   WASHINGTON (Reuters) - The death of Thailand’s...      1\n",
       "828    Donald Trump s presidency is spiraling out of ...      0\n",
       "4966   WASHINGTON (Reuters) - President Donald Trump’...      1\n",
       "7331   The studio of superheroes will leave Georgia r...      0\n",
       "12674  Google trends can be very telling. These Googl...      0\n",
       "...                                                  ...    ...\n",
       "5415   WASHINGTON (Reuters) - President Donald Trump ...      1\n",
       "17328  LONDON (Reuters) - British Prime Minister Ther...      1\n",
       "16190  ZURICH (Reuters) - Austrian police are searchi...      1\n",
       "12913  Wow! Moonbeam Johnson addresses three issues h...      0\n",
       "3910   In a sorry attempt to smear the protester who ...      0\n",
       "8721   CLEVELAND (Reuters) - The Republican National ...      1\n",
       "14000  DHAKA (Reuters) - Several small opposition par...      1\n",
       "21285  BOGOTA (Reuters) - Colombia has sent a letter ...      1\n",
       "12947  DUBAI (Reuters) - Saudi Arabia s King Salman d...      1\n",
       "11877  I could go on an on about Susan Rice Does she ...      0\n",
       "16978  So who does Canada believe is the actual victi...      0\n",
       "1628   Donald Trump treated Americans who oppose him ...      0\n",
       "12767  Another stunning, arrogant slam against Hillar...      0\n",
       "11273  DUBAI (Reuters) - Kuwait s deputy foreign mini...      1\n",
       "7722   LAS VEGAS (Reuters) - President Barack Obama o...      1\n",
       "19302  As the Pussyhat Project s flier helpfully poin...      0\n",
       "4602   Donald Trump wanted the press to tour his bran...      0\n",
       "12162  After the Reid event, Hillary Clinton greeted ...      0\n",
       "6670   WASHINGTON (Reuters) - A sweeping tax reform p...      1\n",
       "10197  WASHINGTON (Reuters) - A Democratic and a Repu...      1\n",
       "15175  BEIRUT (Reuters) - Lebanese President Michel A...      1\n",
       "1506   Prior to the Nov. 8 election, the FBI was, mor...      0\n",
       "21154  SAO PAULO (Reuters) - Former Brazilian Preside...      1\n",
       "3564   BRUSSELS (Reuters) - NATO Secretary-General Je...      1\n",
       "18489  (Reuters) - North Korea has opened a second in...      1\n",
       "16908  WASHINGTON (Reuters) - The United States does ...      1\n",
       "21167  HARARE (Reuters) - Zimbabwe s first lady Grace...      1\n",
       "11049  Lou Dobbs rips on Speaker Paul Ryan because he...      0\n",
       "12715                                                         0\n",
       "9149   WASHINGTON (Reuters) - President Barack Obama ...      1\n",
       "\n",
       "[44898 rows x 2 columns]"
      ]
     },
     "execution_count": 6,
     "metadata": {},
     "output_type": "execute_result"
    }
   ],
   "source": [
    "data # Final Dataset"
   ]
  },
  {
   "cell_type": "markdown",
   "metadata": {},
   "source": [
    "## Performing simple EDA"
   ]
  },
  {
   "cell_type": "code",
   "execution_count": null,
   "metadata": {},
   "outputs": [],
   "source": [
    "data.columns #Checking columns"
   ]
  },
  {
   "cell_type": "code",
   "execution_count": null,
   "metadata": {},
   "outputs": [],
   "source": [
    "data.isnull().sum() #Checking for null values"
   ]
  },
  {
   "cell_type": "code",
   "execution_count": null,
   "metadata": {},
   "outputs": [],
   "source": [
    "data.isna().sum() #Checking for Nan values"
   ]
  },
  {
   "cell_type": "markdown",
   "metadata": {},
   "source": [
    "# Text Preproccesing"
   ]
  },
  {
   "cell_type": "code",
   "execution_count": 7,
   "metadata": {},
   "outputs": [],
   "source": [
    "from nltk.stem.porter import PorterStemmer\n",
    "import re\n",
    "import string\n",
    "from nltk.corpus import stopwords\n",
    "from nltk.stem import PorterStemmer\n",
    "from nltk.stem.wordnet import WordNetLemmatizer\n",
    "from bs4 import BeautifulSoup"
   ]
  },
  {
   "cell_type": "code",
   "execution_count": 8,
   "metadata": {},
   "outputs": [],
   "source": [
    "# DECONTRACTING \n",
    "# eg:  can't = can not\n",
    "import re\n",
    "\n",
    "def decontracted(phrase):\n",
    "    # specific\n",
    "    phrase = re.sub(r\"won't\", \"will not\", phrase)\n",
    "    phrase = re.sub(r\"can\\'t\", \"can not\", phrase)\n",
    "\n",
    "    # general\n",
    "    phrase = re.sub(r\"n\\'t\", \" not\", phrase)\n",
    "    phrase = re.sub(r\"\\'re\", \" are\", phrase)\n",
    "    phrase = re.sub(r\"\\'s\", \" is\", phrase)\n",
    "    phrase = re.sub(r\"\\'d\", \" would\", phrase)\n",
    "    phrase = re.sub(r\"\\'ll\", \" will\", phrase)\n",
    "    phrase = re.sub(r\"\\'t\", \" not\", phrase)\n",
    "    phrase = re.sub(r\"\\'ve\", \" have\", phrase)\n",
    "    phrase = re.sub(r\"\\'m\", \" am\", phrase)\n",
    "    return phrase\n"
   ]
  },
  {
   "cell_type": "code",
   "execution_count": 9,
   "metadata": {},
   "outputs": [],
   "source": [
    "# Defing Stopword Explictly\n",
    "stopwords= set(['br', 'the', 'i', 'me', 'my', 'myself', 'we', 'our', 'ours', 'ourselves', 'you', \"you're\", \"you've\",\\\n",
    "            \"you'll\", \"you'd\", 'your', 'yours', 'yourself', 'yourselves', 'he', 'him', 'his', 'himself', \\\n",
    "            'she', \"she's\", 'her', 'hers', 'herself', 'it', \"it's\", 'its', 'itself', 'they', 'them', 'their',\\\n",
    "            'theirs', 'themselves', 'what', 'which', 'who', 'whom', 'this', 'that', \"that'll\", 'these', 'those', \\\n",
    "            'am', 'is', 'are', 'was', 'were', 'be', 'been', 'being', 'have', 'has', 'had', 'having', 'do', 'does', \\\n",
    "            'did', 'doing', 'a', 'an', 'the', 'and', 'but', 'if', 'or', 'because', 'as', 'until', 'while', 'of', \\\n",
    "            'at', 'by', 'for', 'with', 'about', 'against', 'between', 'into', 'through', 'during', 'before', 'after',\\\n",
    "            'above', 'below', 'to', 'from', 'up', 'down', 'in', 'out', 'on', 'off', 'over', 'under', 'again', 'further',\\\n",
    "            'then', 'once', 'here', 'there', 'when', 'where', 'why', 'how', 'all', 'any', 'both', 'each', 'few', 'more',\\\n",
    "            'most', 'other', 'some', 'such', 'only', 'own', 'same', 'so', 'than', 'too', 'very', \\\n",
    "            's', 't', 'can', 'will', 'just', 'don', \"don't\", 'should', \"should've\", 'now', 'd', 'll', 'm', 'o', 're', \\\n",
    "            've', 'y', 'ain', 'aren', \"aren't\", 'couldn', \"couldn't\", 'didn', \"didn't\", 'doesn', \"doesn't\", 'hadn',\\\n",
    "            \"hadn't\", 'hasn', \"hasn't\", 'haven', \"haven't\", 'isn', \"isn't\", 'ma', 'mightn', \"mightn't\", 'mustn',\\\n",
    "            \"mustn't\", 'needn', \"needn't\", 'shan', \"shan't\", 'shouldn', \"shouldn't\", 'wasn', \"wasn't\", 'weren', \"weren't\", \\\n",
    "            'won', \"won't\", 'wouldn', \"wouldn't\"])"
   ]
  },
  {
   "cell_type": "code",
   "execution_count": 10,
   "metadata": {},
   "outputs": [
    {
     "name": "stderr",
     "output_type": "stream",
     "text": [
      "100%|██████████| 44898/44898 [00:55<00:00, 810.00it/s]\n"
     ]
    }
   ],
   "source": [
    "#Preprocessing the text\n",
    "\n",
    "from tqdm import tqdm     #for process bar\n",
    "preprocessed_text = []\n",
    "# tqdm is for printing the status bar\n",
    "for sentance in tqdm(data['text'].values):\n",
    "    sentance = re.sub(r\"http\\S+\", \"\", sentance)\n",
    "    sentance = BeautifulSoup(sentance, 'lxml').get_text()\n",
    "    sentance = decontracted(sentance)\n",
    "    sentance = re.sub(\"\\S*\\d\\S*\", \"\", sentance).strip()\n",
    "    sentance = re.sub('[^A-Za-z]+', ' ', sentance)\n",
    "    sentance = ' '.join(e.lower() for e in sentance.split() if e.lower() not in stopwords)\n",
    "    preprocessed_text.append(sentance.strip())\n"
   ]
  },
  {
   "cell_type": "code",
   "execution_count": null,
   "metadata": {},
   "outputs": [],
   "source": [
    "#Appending processed text into DATA\n",
    "\n",
    "data['text'] = preprocessed_text\n"
   ]
  },
  {
   "cell_type": "code",
   "execution_count": null,
   "metadata": {},
   "outputs": [],
   "source": [
    "data"
   ]
  },
  {
   "cell_type": "code",
   "execution_count": null,
   "metadata": {},
   "outputs": [],
   "source": [
    "from wordcloud import WordCloud                  #Wordcloud for popularword\n",
    "import matplotlib.pyplot as plt\n",
    "fig, (ax1) = plt.subplots(1, figsize=[9, 9])\n",
    "wordcloud = WordCloud( background_color='white',\n",
    "                        width=600,\n",
    "                        height=600).generate(\" \".join(data['text']))\n",
    "ax1.imshow(wordcloud)\n",
    "ax1.axis('off')\n",
    "ax1.set_title('Frequent Words',fontsize=6);"
   ]
  },
  {
   "cell_type": "code",
   "execution_count": null,
   "metadata": {},
   "outputs": [],
   "source": [
    "import seaborn as sns\n",
    "sns.distplot(data['label']);\n"
   ]
  },
  {
   "cell_type": "markdown",
   "metadata": {},
   "source": [
    "#  Label follows a gaussian distribution with fake being left skweked and truth being rightly skweked"
   ]
  },
  {
   "cell_type": "code",
   "execution_count": null,
   "metadata": {},
   "outputs": [],
   "source": [
    "sns.distplot(data['label'], kde=False, rug=True,bins=3); #SNS DISPLOT"
   ]
  },
  {
   "cell_type": "markdown",
   "metadata": {},
   "source": [
    "## Label is slightly unbalanced so will creating model this has to be taken care of as dataset is small and this can create baising"
   ]
  },
  {
   "cell_type": "markdown",
   "metadata": {},
   "source": [
    "#### To solve this problem we will focus on Text and Label columns"
   ]
  },
  {
   "cell_type": "code",
   "execution_count": null,
   "metadata": {},
   "outputs": [],
   "source": [
    "X = data.text               #Spliting data\n",
    "y = data.label\n",
    "X_train, X_test, y_train, y_test = train_test_split(X, y, train_size = 0.30, random_state = 100)\n",
    "X_cv, X_test, y_cv, y_test = train_test_split(X_train, y_train, train_size = 0.30, random_state = 100)"
   ]
  },
  {
   "cell_type": "markdown",
   "metadata": {},
   "source": [
    "# Using TF-IDF to convert text into vectors"
   ]
  },
  {
   "cell_type": "code",
   "execution_count": null,
   "metadata": {},
   "outputs": [],
   "source": [
    "tfidf_vectorizer = TfidfVectorizer(stop_words = 'english', max_df = 0.7) # Creating tfidf object\n",
    "tfidf_train = tfidf_vectorizer.fit_transform(X_train) #Converting Text to tfidf vectors\n",
    "tfidf_cv = tfidf_vectorizer.transform(X_cv)\n",
    "tfidf_test = tfidf_vectorizer.transform(X_test)"
   ]
  },
  {
   "cell_type": "markdown",
   "metadata": {},
   "source": [
    "#                                           Creating Models"
   ]
  },
  {
   "cell_type": "markdown",
   "metadata": {},
   "source": [
    "## 1. PassiveAggressiveClassifier"
   ]
  },
  {
   "cell_type": "markdown",
   "metadata": {},
   "source": [
    "## Training"
   ]
  },
  {
   "cell_type": "code",
   "execution_count": null,
   "metadata": {},
   "outputs": [],
   "source": [
    "pac = PassiveAggressiveClassifier(max_iter = 50)            #Passive Classifier\n",
    "pac.fit(tfidf_train, y_train)\n",
    "cv_pred = pac.predict(tfidf_cv)\n",
    "pac_score_cv = accuracy_score(y_cv, cv_pred)*100\n",
    "print('Accuracy:', pac_score_cv)\n",
    "cm= confusion_matrix(y_cv, cv_pred)\n",
    "\n",
    "sns.heatmap(cm,annot=True)"
   ]
  },
  {
   "cell_type": "markdown",
   "metadata": {},
   "source": [
    "## Testing"
   ]
  },
  {
   "cell_type": "code",
   "execution_count": null,
   "metadata": {},
   "outputs": [],
   "source": [
    "test_pred = pac.predict(tfidf_test)                        #Testing of Passive Classifier of Test data\n",
    "pac_score_test = accuracy_score(y_test, test_pred)*100\n",
    "print('~~~~~~~Accuracy on Test data~~~~~~~~~~~:', pac_score_test)\n",
    "cm1= confusion_matrix(y_test, test_pred)\n",
    "\n",
    "sns.heatmap(cm1,annot=True)"
   ]
  },
  {
   "cell_type": "markdown",
   "metadata": {},
   "source": [
    "## 2. Logistic Reggression"
   ]
  },
  {
   "cell_type": "markdown",
   "metadata": {},
   "source": [
    "#### Training"
   ]
  },
  {
   "cell_type": "code",
   "execution_count": null,
   "metadata": {},
   "outputs": [],
   "source": [
    "lr = LogisticRegression()                       #Logistic Regression training\n",
    "lr.fit(tfidf_train, y_train)\n",
    "cv_pred = lr.predict(tfidf_cv)\n",
    "lr_score_cv = accuracy_score(y_cv, cv_pred)*100\n",
    "print('Accuracy:',lr_score_cv)\n",
    "print(confusion_matrix(y_cv, cv_pred))"
   ]
  },
  {
   "cell_type": "markdown",
   "metadata": {},
   "source": [
    "#### Testing"
   ]
  },
  {
   "cell_type": "code",
   "execution_count": null,
   "metadata": {},
   "outputs": [],
   "source": [
    "test_pred = lr.predict(tfidf_test)                       #testing logistic regression on test data\n",
    "lr_score_test = accuracy_score(y_test, test_pred)*100\n",
    "print('Accuracy on test data: ',lr_score_test)\n",
    "cm2= confusion_matrix(y_test, test_pred)\n",
    "sns.heatmap(cm2,annot=True)"
   ]
  },
  {
   "cell_type": "markdown",
   "metadata": {},
   "source": [
    "## 3. SVC"
   ]
  },
  {
   "cell_type": "markdown",
   "metadata": {},
   "source": [
    "#### Training"
   ]
  },
  {
   "cell_type": "code",
   "execution_count": null,
   "metadata": {},
   "outputs": [],
   "source": [
    "svc = SVC()\n",
    "svc.fit(tfidf_train, y_train)            #training support vector classifier\n",
    "cv_pred = svc.predict(tfidf_cv)\n",
    "svc_score_cv = accuracy_score(y_cv, cv_pred)*100\n",
    "print('Accuracy: ', svc_score_cv)\n",
    "print(confusion_matrix(y_cv, cv_pred))"
   ]
  },
  {
   "cell_type": "markdown",
   "metadata": {},
   "source": [
    "#### Testing"
   ]
  },
  {
   "cell_type": "code",
   "execution_count": null,
   "metadata": {},
   "outputs": [],
   "source": [
    "test_pred = svc.predict(tfidf_test)                #testing svc on test data\n",
    "svc_score_test = accuracy_score(y_test, test_pred)*100\n",
    "print('Accuracy: ',svc_score_test)\n",
    "cm3=confusion_matrix(y_test, test_pred)\n",
    "sns.heatmap(cm3,annot=True)"
   ]
  },
  {
   "cell_type": "markdown",
   "metadata": {},
   "source": [
    "## 4. Naive Bayes"
   ]
  },
  {
   "cell_type": "markdown",
   "metadata": {},
   "source": [
    "## Training "
   ]
  },
  {
   "cell_type": "code",
   "execution_count": null,
   "metadata": {},
   "outputs": [],
   "source": [
    "nb = GaussianNB()                              #training Naive bayes \n",
    "nb.fit(tfidf_train.toarray(), y_train)\n",
    "cv_pred = nb.predict(tfidf_cv.toarray())\n",
    "nb_score_cv = accuracy_score(y_cv, cv_pred)*100\n",
    "print('Accuracy: ',nb_score_cv)\n",
    "print(confusion_matrix(y_cv, cv_pred))"
   ]
  },
  {
   "cell_type": "markdown",
   "metadata": {},
   "source": [
    "## Testing"
   ]
  },
  {
   "cell_type": "code",
   "execution_count": null,
   "metadata": {},
   "outputs": [],
   "source": [
    "test_pred = nb.predict(tfidf_test.toarray())           #testing NB on test data \n",
    "nb_score_test = accuracy_score(y_test, test_pred)*100\n",
    "print('Accuracy:', nb_score_test)\n",
    "cm4=confusion_matrix(y_test, test_pred)\n",
    "sns.heatmap(cm4,annot=True)"
   ]
  },
  {
   "cell_type": "markdown",
   "metadata": {},
   "source": [
    "## Summary of all trained and tested models"
   ]
  },
  {
   "cell_type": "code",
   "execution_count": null,
   "metadata": {},
   "outputs": [],
   "source": [
    "x = PrettyTable()                        #making table\n",
    "x.field_names = ['Model Name', 'CV_Accuracy', 'Testing_Accuracy']\n",
    "x.add_row(['PassiveAggressiveClassifier', pac_score_cv , pac_score_test])\n",
    "x.add_row([\" -------------------------\",\" ----------- \",\" ----------- \"])\n",
    "x.add_row(['Logistic Regression', lr_score_cv , lr_score_test])\n",
    "x.add_row([\" -------------------------\",\" ----------- \",\" ----------- \"])\n",
    "x.add_row(['Support Vector Classifier', svc_score_cv , svc_score_test])\n",
    "x.add_row([\" -------------------------\",\" ----------- \",\" ----------- \"])\n",
    "x.add_row(['Naive Bayes', nb_score_cv , nb_score_test])\n",
    "print(x)"
   ]
  },
  {
   "cell_type": "markdown",
   "metadata": {},
   "source": [
    "# Conclusion :  Passive Aggressive Classiffier having train and test best accuracy as well as Confusion matrix shows it classsify correctly"
   ]
  },
  {
   "cell_type": "markdown",
   "metadata": {},
   "source": [
    "#  TEST MODEL"
   ]
  },
  {
   "cell_type": "code",
   "execution_count": null,
   "metadata": {},
   "outputs": [],
   "source": [
    "text='WASHINGTON (Reuters) - A U.S. appeals court on' #random statement"
   ]
  },
  {
   "cell_type": "code",
   "execution_count": null,
   "metadata": {},
   "outputs": [],
   "source": [
    "def preprocess(x):                            #preproccesing nlp function\n",
    "    x = str(x).lower()\n",
    "    x = x.replace(\",000,000\", \"m\").replace(\",000\", \"k\").replace(\"′\", \"'\").replace(\"’\", \"'\")    #replace 1000 to 1k                       .replace(\"won't\", \"will not\").replace(\"cannot\", \"can not\").replace(\"can't\", \"can not\")                           .replace(\"n't\", \" not\").replace(\"what's\", \"what is\").replace(\"it's\", \"it is\")                           .replace(\"'ve\", \" have\").replace(\"i'm\", \"i am\").replace(\"'re\", \" are\")                           .replace(\"he's\", \"he is\").replace(\"she's\", \"she is\").replace(\"'s\", \" own\")                           .replace(\"%\", \" percent \").replace(\"₹\", \" rupee \").replace(\"$\", \" dollar \")                           .replace(\"€\", \" euro \").replace(\"'ll\", \" will\")\n",
    "    x = re.sub(r\"([0-9]+)000000\", r\"\\1m\", x)       #1000000 to 1M\n",
    "    x = re.sub(r\"([0-9]+)000\", r\"\\1k\", x)      \n",
    "    x = re.sub(r\"http\\S+\", \"\", x)               #removing https\n",
    "    \n",
    "    porter = PorterStemmer()\n",
    "    pattern = re.compile('\\W')\n",
    "    \n",
    "    if type(x) == type(''):\n",
    "        x = re.sub(pattern, ' ', x)\n",
    "    \n",
    "    \n",
    "    if type(x) == type(''):\n",
    "        x = porter.stem(x)\n",
    "        example1 = BeautifulSoup(x)\n",
    "        x = example1.get_text()\n",
    "               \n",
    "    \n",
    "    return x\n"
   ]
  },
  {
   "cell_type": "code",
   "execution_count": null,
   "metadata": {},
   "outputs": [],
   "source": [
    "text =  preprocess(text)\n"
   ]
  },
  {
   "cell_type": "code",
   "execution_count": null,
   "metadata": {},
   "outputs": [],
   "source": [
    "text"
   ]
  },
  {
   "cell_type": "code",
   "execution_count": null,
   "metadata": {},
   "outputs": [],
   "source": [
    "text_vect = tfidf_vectorizer.transform(([text]))       #transforming test text using TFIDF \n"
   ]
  },
  {
   "cell_type": "code",
   "execution_count": null,
   "metadata": {},
   "outputs": [],
   "source": [
    "pred = pac.predict(text_vect)\n"
   ]
  },
  {
   "cell_type": "code",
   "execution_count": null,
   "metadata": {},
   "outputs": [],
   "source": [
    "pred"
   ]
  },
  {
   "cell_type": "markdown",
   "metadata": {},
   "source": [
    "## LSTM"
   ]
  },
  {
   "cell_type": "code",
   "execution_count": 35,
   "metadata": {},
   "outputs": [],
   "source": [
    "import numpy as np\n",
    "\n",
    "import pandas as pd\n",
    "\n",
    "from keras.models import Sequential\n",
    "\n",
    "from keras.layers import Dense, Embedding, LSTM, SpatialDropout1D\n",
    "\n",
    "from sklearn.model_selection import train_test_split\n",
    "\n",
    "from sklearn.feature_extraction.text import CountVectorizer\n",
    "\n",
    "from keras.preprocessing.text import Tokenizer\n",
    "\n",
    "from keras.preprocessing.sequence import pad_sequences\n",
    "\n",
    "from keras.utils.np_utils import to_categorical\n",
    "\n",
    "import re\n",
    "\n",
    "#importing library"
   ]
  },
  {
   "cell_type": "code",
   "execution_count": 28,
   "metadata": {},
   "outputs": [],
   "source": [
    "from collections import Counter\n",
    "# Count unique words\n",
    "def counter_word(text):\n",
    "    count = Counter()\n",
    "    for i in text.values:\n",
    "        for word in i.split():\n",
    "            count[word] += 1\n",
    "    return count\n",
    "\n",
    "#counting unique"
   ]
  },
  {
   "cell_type": "code",
   "execution_count": 29,
   "metadata": {},
   "outputs": [],
   "source": [
    "text = data.text\n",
    "counter = counter_word(text)   #processing text into counterword\n",
    "num_words = len(counter)\n",
    "max_length = 300"
   ]
  },
  {
   "cell_type": "code",
   "execution_count": 42,
   "metadata": {},
   "outputs": [],
   "source": [
    "#Using tokenizer to make vector and padd them with 0 using padsequences\n",
    "from tensorflow.keras.preprocessing.text import Tokenizer\n",
    "from tensorflow.keras.preprocessing.sequence import pad_sequences\n",
    "\n",
    "\n",
    "\n",
    "tokenizer = Tokenizer(num_words=5000)\n",
    "tokenizer.fit_on_texts(text)          #fiting on text\n",
    "vocab_size = len(tokenizer.word_index) + 1\n",
    "encoded_docs = tokenizer.texts_to_sequences(text)\n",
    "padded_sequence = pad_sequences(encoded_docs, maxlen=200)     #padding the text\n",
    "\n"
   ]
  },
  {
   "cell_type": "code",
   "execution_count": 47,
   "metadata": {},
   "outputs": [
    {
     "name": "stdout",
     "output_type": "stream",
     "text": [
      "Model: \"sequential_3\"\n",
      "_________________________________________________________________\n",
      "Layer (type)                 Output Shape              Param #   \n",
      "=================================================================\n",
      "embedding (Embedding)        (None, 200, 32)           4416704   \n",
      "_________________________________________________________________\n",
      "spatial_dropout1d (SpatialDr (None, 200, 32)           0         \n",
      "_________________________________________________________________\n",
      "lstm (LSTM)                  (None, 50)                16600     \n",
      "_________________________________________________________________\n",
      "dropout (Dropout)            (None, 50)                0         \n",
      "_________________________________________________________________\n",
      "dense (Dense)                (None, 1)                 51        \n",
      "=================================================================\n",
      "Total params: 4,433,355\n",
      "Trainable params: 4,433,355\n",
      "Non-trainable params: 0\n",
      "_________________________________________________________________\n",
      "None\n"
     ]
    }
   ],
   "source": [
    "# Build the model\n",
    "from tensorflow.keras.models import Sequential\n",
    "from tensorflow.keras.layers import LSTM\n",
    "from tensorflow.keras.layers import Dense \n",
    "from tensorflow.keras.layers import Dropout\n",
    "from tensorflow.keras.layers import SpatialDropout1D\n",
    "from tensorflow.keras.layers import Embedding\n",
    "embedding_vector_length = 32\n",
    "model = Sequential()\n",
    "model.add(Embedding(vocab_size, embedding_vector_length,     \n",
    "                                     input_length=200) )\n",
    "model.add(SpatialDropout1D(0.25))\n",
    "model.add(LSTM(50, dropout=0.5, recurrent_dropout=0.5))\n",
    "model.add(Dropout(0.2))\n",
    "model.add(Dense(1, activation='sigmoid'))                       #using sigmoid function\n",
    "model.compile(loss='binary_crossentropy',optimizer='adam', \n",
    "                           metrics=['accuracy'])\n",
    "print(model.summary())"
   ]
  },
  {
   "cell_type": "code",
   "execution_count": 56,
   "metadata": {},
   "outputs": [
    {
     "name": "stdout",
     "output_type": "stream",
     "text": [
      "Epoch 1/5\n",
      "4490/4490 [==============================] - 1615s 360ms/step - loss: 0.1005 - accuracy: 0.9668 - val_loss: 0.0712 - val_accuracy: 0.9767\n",
      "Epoch 2/5\n",
      "4490/4490 [==============================] - 1529s 340ms/step - loss: 0.0852 - accuracy: 0.9718 - val_loss: 0.0624 - val_accuracy: 0.9798\n",
      "Epoch 3/5\n",
      "4490/4490 [==============================] - 1523s 339ms/step - loss: 0.0517 - accuracy: 0.9841 - val_loss: 0.0865 - val_accuracy: 0.9682\n"
     ]
    }
   ],
   "source": [
    "\n",
    "earlystop = tf.keras.callbacks.EarlyStopping(\n",
    "    monitor='val_loss', min_delta=0, patience=0, verbose=0, mode='auto',\n",
    "    baseline=None, restore_best_weights=False                                #using earlystopping \n",
    ")\n",
    "\n",
    "history = model.fit(padded_sequence,data.label,\n",
    "                  validation_split=0.2, epochs=5,\n",
    "                   batch_size=8, \n",
    "                    callbacks=[earlystop]\n",
    "                   )"
   ]
  },
  {
   "cell_type": "code",
   "execution_count": 58,
   "metadata": {},
   "outputs": [],
   "source": [
    "import matplotlib.pyplot as plt              #function for printing accuracy and loss graph\n",
    "\n",
    "def plot_graphs(history, metric):\n",
    "  plt.plot(history.history[metric])\n",
    "  plt.plot(history.history['val_'+metric], '')\n",
    "  plt.xlabel(\"Epochs\")\n",
    "  plt.ylabel(metric)\n",
    "  plt.legend([metric, 'val_'+metric])\n",
    "  plt.show()\n",
    "\n",
    "\n"
   ]
  },
  {
   "cell_type": "code",
   "execution_count": 59,
   "metadata": {},
   "outputs": [
    {
     "data": {
      "image/png": "[encoded data removed]",
      "text/plain": [
       "<Figure size 432x288 with 1 Axes>"
      ]
     },
     "metadata": {
      "needs_background": "light"
     },
     "output_type": "display_data"
    }
   ],
   "source": [
    "plot_graphs(history, 'accuracy')      #accuracy\n",
    "\n"
   ]
  },
  {
   "cell_type": "code",
   "execution_count": 60,
   "metadata": {},
   "outputs": [
    {
     "data": {
      "image/png": "[encoded data removed]",
      "text/plain": [
       "<Figure size 432x288 with 1 Axes>"
      ]
     },
     "metadata": {
      "needs_background": "light"
     },
     "output_type": "display_data"
    }
   ],
   "source": [
    "plot_graphs(history, 'loss')\n",
    "                                 #loss"
   ]
  },
  {
   "cell_type": "code",
   "execution_count": null,
   "metadata": {},
   "outputs": [],
   "source": []
  }
 ],
 "metadata": {
  "kernelspec": {
   "display_name": "Python 3",
   "language": "python",
   "name": "python3"
  },
  "language_info": {
   "codemirror_mode": {
    "name": "ipython",
    "version": 3
   },
   "file_extension": ".py",
   "mimetype": "text/x-python",
   "name": "python",
   "nbconvert_exporter": "python",
   "pygments_lexer": "ipython3",
   "version": "3.7.3"
  }
 },
 "nbformat": 4,
 "nbformat_minor": 4
}
